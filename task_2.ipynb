{
 "cells": [
  {
   "cell_type": "markdown",
   "source": [
    "# Задание 2.\n",
    "\n",
    "**NB. Все упражнения ниже нужно делать без использования циклов Python в явном (`while`, `for`) и неявном виде (list comprehension, `map`, `reduce` и пр)**\n",
    "\n",
    "Задания по манипуляциям с массивами чаще всего решаются в одно/два выражения."
   ],
   "metadata": {
    "collapsed": false
   }
  },
  {
   "cell_type": "code",
   "execution_count": 1,
   "outputs": [
    {
     "name": "stdout",
     "output_type": "stream",
     "text": [
      "[[ 0 77 45 ... 30 20 47]\n",
      " [56 91 86 ... 31  1 22]\n",
      " [59 78 90 ... 71 69 26]\n",
      " ...\n",
      " [73 29 16 ... 45 12 74]\n",
      " [17 30 66 ... 43 41 29]\n",
      " [48 31 45 ... 73 85 16]]\n"
     ]
    }
   ],
   "source": [
    "import scipy.stats\n",
    "%matplotlib inline\n",
    "\n",
    "import numpy as np\n",
    "import matplotlib.pyplot as plt\n",
    "import seaborn as sns\n",
    "sns.set_theme()\n",
    "\n",
    "A = np.random.randint(0, 100, size=(200, 50))\n",
    "print(A)"
   ],
   "metadata": {
    "collapsed": false,
    "pycharm": {
     "name": "#%%\n"
    }
   }
  },
  {
   "cell_type": "markdown",
   "source": [
    "# Задание 2.1 (2 балла) +\n",
    "\n",
    "Сгенерируйте новый массив, в котором столбцы массива `A` переставлены в случайном порядке"
   ],
   "metadata": {
    "collapsed": false
   }
  },
  {
   "cell_type": "code",
   "execution_count": 2,
   "outputs": [
    {
     "name": "stdout",
     "output_type": "stream",
     "text": [
      "[[19 15 31 ... 39 28 66]\n",
      " [43 86 54 ... 17 24 71]\n",
      " [30 57 32 ... 63  0 28]\n",
      " ...\n",
      " [ 1 77 59 ... 93 34 38]\n",
      " [74 37 23 ... 50  7 62]\n",
      " [40 95 40 ... 81 86 67]]\n"
     ]
    }
   ],
   "source": [
    "print(A[:,np.random.permutation(len(A[0]))])"
   ],
   "metadata": {
    "collapsed": false,
    "pycharm": {
     "name": "#%%\n"
    }
   }
  },
  {
   "cell_type": "markdown",
   "source": [
    "# Задание 2.2 (5 баллов) +\n",
    "\n",
    "Сгенерируйте новый массив, который содержит только те строки массива `A`, в которых:\n",
    "- сумма элементов по четным столбцам (индексы $0, 2, \\ldots$) больше среднего значения (по всему массиву) суммы элементов по нечетным столбцам (индексы $1, 3, \\ldots$)"
   ],
   "metadata": {
    "collapsed": false
   }
  },
  {
   "cell_type": "code",
   "execution_count": 3,
   "outputs": [
    {
     "name": "stdout",
     "output_type": "stream",
     "text": [
      "[[ 2 85 81 ... 98 77 49]\n",
      " [84 91  2 ... 99 28 82]\n",
      " [99 76 55 ... 64 32 15]\n",
      " ...\n",
      " [73 29 16 ... 45 12 74]\n",
      " [17 30 66 ... 43 41 29]\n",
      " [48 31 45 ... 73 85 16]]\n"
     ]
    }
   ],
   "source": [
    "print(A[np.sum(A[:,::2],axis=1)>np.mean(np.sum(A[:,1::2],axis=1))])"
   ],
   "metadata": {
    "collapsed": false,
    "pycharm": {
     "name": "#%%\n"
    }
   }
  },
  {
   "cell_type": "markdown",
   "source": [
    "# Задача 2.3 (3 балла) +\n",
    "\n",
    "Найдите индекс строки массива `A`, в которой разница между максимальным и минимальным элементом максимальна"
   ],
   "metadata": {
    "collapsed": false
   }
  },
  {
   "cell_type": "code",
   "execution_count": 4,
   "outputs": [
    {
     "data": {
      "text/plain": "array([  2,   3,   7,   8,  16,  24,  27,  31,  36,  37,  42,  43,  45,\n        54,  62,  68,  74,  93, 106, 107, 111, 121, 122, 125, 129, 140,\n       150, 152, 153, 160, 170, 172, 176, 177, 180, 191], dtype=int64)"
     },
     "execution_count": 4,
     "metadata": {},
     "output_type": "execute_result"
    }
   ],
   "source": [
    "min_max = np.max(A,axis=1)-np.min(A,axis=1)\n",
    "np.argwhere(min_max==np.max(min_max)).reshape(-1)"
   ],
   "metadata": {
    "collapsed": false,
    "pycharm": {
     "name": "#%%\n"
    }
   }
  },
  {
   "cell_type": "markdown",
   "source": [
    "# Задание 2.4 (7 баллов) +\n",
    "\n",
    "Сгенерируйте массив той же размерности, что и `A`, но в котором каждый элемент заменен на его порядковый номер (начиная с 1) в отсортированном по возрастанию массиве из элементов `A`\n",
    "\n",
    "Если `A` выглядит так:\n",
    "$$\n",
    "\\begin{pmatrix}\n",
    "12 & 14\\\\\n",
    "1 & 2\n",
    "\\end{pmatrix}\n",
    "$$\n",
    "то результат должен быть\n",
    "$$\n",
    "\\begin{pmatrix}\n",
    "3 & 4\\\\\n",
    "1 & 2\n",
    "\\end{pmatrix}\n",
    "$$\n",
    "\n",
    "*Tip: рассмотрите возможность неоднократного применения [argsort()](https://numpy.org/doc/stable/reference/generated/numpy.ndarray.argsort.html)*"
   ],
   "metadata": {
    "collapsed": false
   }
  },
  {
   "cell_type": "code",
   "execution_count": 5,
   "outputs": [
    {
     "name": "stdout",
     "output_type": "stream",
     "text": [
      "[[   1 7730 4469 ... 3012 2041 4675]\n",
      " [5568 9102 8710 ... 3147  180 2156]\n",
      " [5946 7875 9078 ... 7161 6937 2615]\n",
      " ...\n",
      " [7424 2920 1605 ... 4511 1271 7459]\n",
      " [1758 3037 6593 ... 4363 4125 2915]\n",
      " [4820 3124 4543 ... 7399 8555 1654]]\n"
     ]
    }
   ],
   "source": [
    "print((A.flatten().argsort().argsort()+1).reshape(200,50))"
   ],
   "metadata": {
    "collapsed": false,
    "pycharm": {
     "name": "#%%\n"
    }
   }
  },
  {
   "cell_type": "markdown",
   "source": [
    "# Задание 2.5 (2 балла) +\n",
    "\n",
    "Примените $\\min-\\max$ - нормализацию к строкам массива `A`. То есть нужно получить новый массивы, в каждой строке которого максимальный элементы равен $1$, минимальный - $0$."
   ],
   "metadata": {
    "collapsed": false
   }
  },
  {
   "cell_type": "code",
   "execution_count": 6,
   "outputs": [
    {
     "name": "stdout",
     "output_type": "stream",
     "text": [
      "[[0.         0.79381443 0.46391753 ... 0.30927835 0.20618557 0.48453608]\n",
      " [0.61111111 1.         0.94444444 ... 0.33333333 0.         0.23333333]\n",
      " [0.5959596  0.78787879 0.90909091 ... 0.71717172 0.6969697  0.26262626]\n",
      " ...\n",
      " [0.74226804 0.28865979 0.15463918 ... 0.45360825 0.11340206 0.75257732]\n",
      " [0.17346939 0.30612245 0.67346939 ... 0.43877551 0.41836735 0.29591837]\n",
      " [0.4494382  0.25842697 0.41573034 ... 0.73033708 0.86516854 0.08988764]]\n"
     ]
    }
   ],
   "source": [
    "print(((A.T-np.min(A, axis=1))/(np.max(A,axis=1)-np.min(A,axis=1))).T)"
   ],
   "metadata": {
    "collapsed": false,
    "pycharm": {
     "name": "#%%\n"
    }
   }
  },
  {
   "cell_type": "markdown",
   "source": [
    "# Задание 2.6 (2 балла) +\n",
    "\n",
    "Сгенерируйте новый трехмерный массив, размерности $10 \\times 200 \\times 50$. Подмассивы по нулевой оси должны состоять из элементов `A`, умноженных на $1 - 10$ соответственно"
   ],
   "metadata": {
    "collapsed": false
   }
  },
  {
   "cell_type": "code",
   "execution_count": 7,
   "outputs": [
    {
     "name": "stdout",
     "output_type": "stream",
     "text": [
      "[[[  0  77  45 ...  30  20  47]\n",
      "  [ 56  91  86 ...  31   1  22]\n",
      "  [ 59  78  90 ...  71  69  26]\n",
      "  ...\n",
      "  [ 73  29  16 ...  45  12  74]\n",
      "  [ 17  30  66 ...  43  41  29]\n",
      "  [ 48  31  45 ...  73  85  16]]\n",
      "\n",
      " [[  0 154  90 ...  60  40  94]\n",
      "  [112 182 172 ...  62   2  44]\n",
      "  [118 156 180 ... 142 138  52]\n",
      "  ...\n",
      "  [146  58  32 ...  90  24 148]\n",
      "  [ 34  60 132 ...  86  82  58]\n",
      "  [ 96  62  90 ... 146 170  32]]\n",
      "\n",
      " [[  0 231 135 ...  90  60 141]\n",
      "  [168 273 258 ...  93   3  66]\n",
      "  [177 234 270 ... 213 207  78]\n",
      "  ...\n",
      "  [219  87  48 ... 135  36 222]\n",
      "  [ 51  90 198 ... 129 123  87]\n",
      "  [144  93 135 ... 219 255  48]]\n",
      "\n",
      " ...\n",
      "\n",
      " [[  0 616 360 ... 240 160 376]\n",
      "  [448 728 688 ... 248   8 176]\n",
      "  [472 624 720 ... 568 552 208]\n",
      "  ...\n",
      "  [584 232 128 ... 360  96 592]\n",
      "  [136 240 528 ... 344 328 232]\n",
      "  [384 248 360 ... 584 680 128]]\n",
      "\n",
      " [[  0 693 405 ... 270 180 423]\n",
      "  [504 819 774 ... 279   9 198]\n",
      "  [531 702 810 ... 639 621 234]\n",
      "  ...\n",
      "  [657 261 144 ... 405 108 666]\n",
      "  [153 270 594 ... 387 369 261]\n",
      "  [432 279 405 ... 657 765 144]]\n",
      "\n",
      " [[  0 770 450 ... 300 200 470]\n",
      "  [560 910 860 ... 310  10 220]\n",
      "  [590 780 900 ... 710 690 260]\n",
      "  ...\n",
      "  [730 290 160 ... 450 120 740]\n",
      "  [170 300 660 ... 430 410 290]\n",
      "  [480 310 450 ... 730 850 160]]]\n"
     ]
    }
   ],
   "source": [
    "print((np.arange(10)+1).repeat(200*50).reshape(10,200,50)*A)"
   ],
   "metadata": {
    "collapsed": false,
    "pycharm": {
     "name": "#%%\n"
    }
   }
  },
  {
   "cell_type": "markdown",
   "source": [
    "# Задание 2.7 (2 балла) +\n",
    "\n",
    "Создайте новый массив, такой же размерности, как и `A`, в котором сначала сгруппированы четные столбцы `A`, потом  нечетные. Используйте [np.concat()](https://numpy.org/doc/stable/reference/generated/numpy.concatenate.html)"
   ],
   "metadata": {
    "collapsed": false
   }
  },
  {
   "cell_type": "code",
   "execution_count": 8,
   "outputs": [
    {
     "name": "stdout",
     "output_type": "stream",
     "text": [
      "[[ 0 45 75 ... 77 30 47]\n",
      " [56 86 13 ... 79 31 22]\n",
      " [59 90 58 ... 99 71 26]\n",
      " ...\n",
      " [73 16 63 ... 81 45 74]\n",
      " [17 66 33 ... 22 43 29]\n",
      " [48 45 90 ... 49 73 16]]\n"
     ]
    }
   ],
   "source": [
    "print(np.concatenate((A[:,::2],A[:,1::2]),axis=1))"
   ],
   "metadata": {
    "collapsed": false,
    "pycharm": {
     "name": "#%%\n"
    }
   }
  },
  {
   "cell_type": "markdown",
   "source": [
    "# Задание 2.8 (2 балла) +\n",
    "\n",
    "Посчитайте количество строк массива `A`, в который все элементы больше 5. Используйте [np.all()](https://numpy.org/doc/stable/reference/generated/numpy.all.html)"
   ],
   "metadata": {
    "collapsed": false
   }
  },
  {
   "cell_type": "code",
   "execution_count": 9,
   "outputs": [
    {
     "name": "stdout",
     "output_type": "stream",
     "text": [
      "8\n"
     ]
    }
   ],
   "source": [
    "print(sum(np.all(A>5,axis=1)))"
   ],
   "metadata": {
    "collapsed": false,
    "pycharm": {
     "name": "#%%\n"
    }
   }
  },
  {
   "cell_type": "markdown",
   "source": [
    "# Задание 2.9 (2 балла) +\n",
    "\n",
    "Поделите массив `A` горизонтально на 10 частей и создайте новый массив размерности $20 \\times 50$, который состоит из средних этих частей. Используйте [np.split()](https://numpy.org/doc/stable/reference/generated/numpy.split.html)"
   ],
   "metadata": {
    "collapsed": false
   }
  },
  {
   "cell_type": "code",
   "execution_count": 10,
   "outputs": [
    {
     "name": "stdout",
     "output_type": "stream",
     "text": [
      "[[48.2 51.7 65.4 39.8 52.8 56.5 55.6 52.2 52.8 40.5 46.  52.2 35.4 51.1\n",
      "  51.4 57.1 46.1 48.9 52.6 49.8 57.3 46.1 42.  63.7 27.  50.8 35.6 55.6\n",
      "  54.5 37.9 61.9 60.8 36.4 49.3 50.  49.6 55.3 43.1 61.6 46.4 44.4 62.\n",
      "  47.6 39.4 39.1 61.8 51.4 51.  44.6 51.9]\n",
      " [55.1 48.5 54.6 36.2 54.5 64.8 36.6 37.7 25.8 56.1 53.8 39.4 50.  53.4\n",
      "  59.7 38.3 62.  42.7 45.7 47.2 44.5 37.5 45.1 61.  55.2 57.4 57.9 66.\n",
      "  61.5 51.5 46.8 49.9 44.7 51.1 44.9 48.8 46.9 43.6 56.  67.3 42.2 59.9\n",
      "  61.5 38.8 56.9 54.4 62.2 39.5 47.9 59.4]\n",
      " [51.8 59.5 57.7 48.1 44.2 52.1 60.1 38.8 59.7 52.  52.5 43.3 42.1 51.7\n",
      "  43.2 50.  38.1 72.5 33.7 57.4 43.2 49.6 52.7 37.2 54.9 40.4 58.7 54.5\n",
      "  37.2 27.9 56.3 42.2 51.8 66.2 53.  73.6 31.8 53.9 34.9 43.7 44.6 42.1\n",
      "  44.6 47.5 43.3 63.6 44.3 52.7 54.  49. ]\n",
      " [47.5 43.3 52.4 59.3 41.2 60.5 50.2 38.5 60.9 40.9 58.6 54.2 46.4 53.7\n",
      "  56.3 34.6 43.7 36.4 48.  63.4 40.2 68.8 41.4 53.2 40.6 62.8 48.3 49.5\n",
      "  45.4 51.1 42.  59.1 44.6 40.5 31.  40.4 46.2 56.1 39.1 55.6 47.7 34.\n",
      "  35.2 56.2 46.6 54.6 48.8 47.5 46.6 49.8]\n",
      " [34.9 44.1 42.3 64.7 53.  52.6 41.8 32.6 53.5 52.4 57.5 46.9 54.8 51.\n",
      "  42.7 41.5 44.4 53.4 51.3 47.6 42.5 48.2 47.7 43.5 37.7 61.2 55.6 45.8\n",
      "  49.3 64.5 46.1 59.9 46.7 55.  45.8 45.3 50.1 40.3 45.2 62.6 50.1 36.2\n",
      "  39.1 19.8 38.6 50.4 45.1 57.5 42.2 59.8]\n",
      " [53.8 42.6 44.1 40.9 52.9 64.8 65.8 38.8 31.5 54.8 52.3 34.9 58.2 58.8\n",
      "  59.2 56.  37.1 59.  55.8 53.  39.  66.4 59.6 49.9 55.4 45.6 54.1 46.9\n",
      "  50.5 42.1 56.4 55.8 42.2 50.  67.6 39.8 50.4 56.3 47.4 64.  66.4 59.\n",
      "  49.2 49.2 44.1 55.4 49.8 32.8 54.4 55.3]\n",
      " [44.3 58.1 35.2 52.3 52.1 54.8 60.6 57.1 43.6 43.3 62.2 49.5 60.6 43.6\n",
      "  48.1 53.7 54.3 54.4 56.6 52.4 35.8 42.6 64.4 50.6 55.  45.8 47.2 53.8\n",
      "  58.2 45.3 47.6 46.4 42.2 60.4 54.9 58.1 54.3 52.4 66.7 44.9 36.8 42.4\n",
      "  44.1 58.4 76.1 49.5 39.3 65.4 57.2 60.9]\n",
      " [42.4 32.9 68.4 21.9 52.5 55.4 46.4 27.7 44.1 49.8 44.9 49.6 41.  46.2\n",
      "  57.3 45.  50.2 60.  45.6 48.1 59.3 51.6 55.  56.6 41.6 55.2 60.9 63.3\n",
      "  53.6 56.6 46.5 33.1 56.  58.5 55.4 42.1 41.5 46.3 52.4 49.7 63.6 62.7\n",
      "  39.9 46.3 39.8 48.6 49.1 26.5 33.  52.9]\n",
      " [36.2 46.4 35.2 54.7 35.2 65.7 57.  46.5 45.5 46.2 55.4 50.1 53.8 70.9\n",
      "  36.3 59.7 47.7 42.2 68.7 48.  39.9 44.4 43.9 59.2 46.7 53.3 52.5 49.1\n",
      "  58.  49.1 58.7 61.3 45.6 58.4 50.6 66.4 33.4 51.2 39.3 42.2 55.2 50.3\n",
      "  47.8 52.2 54.  63.2 48.  66.7 46.9 59.4]\n",
      " [56.4 56.3 50.3 48.8 48.4 78.4 61.5 44.5 55.7 60.  45.3 44.6 48.6 60.1\n",
      "  52.8 50.4 46.5 39.2 63.8 38.5 41.7 56.4 59.7 57.6 49.8 54.6 47.6 36.1\n",
      "  56.  44.2 40.7 37.9 49.  40.1 54.3 53.4 43.2 42.4 51.5 52.5 45.7 57.8\n",
      "  54.3 57.8 57.7 52.9 50.5 47.8 56.  48.3]\n",
      " [40.7 57.9 34.5 54.7 71.1 44.3 50.9 38.3 43.  53.8 57.4 49.9 28.8 56.4\n",
      "  36.7 44.6 48.6 61.  38.2 72.  50.2 48.4 54.6 34.5 49.  30.6 63.5 40.2\n",
      "  53.  39.1 52.  34.5 45.  60.1 61.2 63.6 49.9 36.9 47.2 48.6 55.  47.4\n",
      "  52.1 66.3 52.9 49.2 47.  53.2 43.6 47.7]\n",
      " [37.  56.  46.2 47.7 56.3 50.5 42.  31.4 46.6 49.9 48.7 36.5 54.6 46.7\n",
      "  43.4 33.1 46.4 38.5 42.9 34.8 50.5 34.7 45.1 51.  32.  48.2 62.2 32.8\n",
      "  37.5 34.9 51.2 67.6 53.6 42.5 39.5 54.6 60.7 40.4 45.  46.2 56.1 61.5\n",
      "  37.5 58.1 53.9 57.7 52.5 34.5 57.3 52.9]\n",
      " [55.3 27.6 60.5 55.7 68.6 28.2 57.6 39.  38.9 40.3 62.3 56.9 36.5 59.2\n",
      "  64.7 46.1 59.1 43.  55.2 44.8 45.5 48.5 43.8 62.6 47.2 49.6 34.6 47.3\n",
      "  63.5 54.  44.2 51.4 47.  47.9 53.3 50.4 46.5 65.3 52.5 42.9 44.2 50.\n",
      "  58.  62.3 49.  37.2 53.6 39.  56.9 53.1]\n",
      " [50.  55.5 54.7 49.4 53.8 45.9 69.6 48.2 59.5 33.2 55.4 35.1 42.2 58.5\n",
      "  43.1 57.3 40.8 19.  63.9 65.1 50.7 53.9 60.8 60.4 60.6 59.5 47.8 50.2\n",
      "  55.  42.6 38.5 41.  37.  58.6 49.7 68.9 53.9 46.2 56.4 56.7 40.2 36.7\n",
      "  55.2 21.8 45.3 36.1 47.5 37.9 44.1 39.5]\n",
      " [47.9 50.8 63.3 46.5 51.9 58.1 65.6 46.9 62.1 56.3 53.7 38.8 41.5 49.7\n",
      "  32.8 55.3 49.6 46.9 57.7 61.7 39.1 48.1 45.5 63.5 59.  49.5 35.5 56.3\n",
      "  37.9 52.3 53.5 52.8 53.4 59.3 44.  50.6 64.3 47.3 41.  53.5 51.  50.1\n",
      "  39.8 44.9 55.8 33.7 44.1 62.9 67.7 63.4]\n",
      " [49.7 45.  43.7 53.1 45.1 54.8 49.4 48.7 45.1 42.8 48.3 57.1 69.1 51.9\n",
      "  46.5 47.7 44.9 46.1 47.1 50.1 67.2 47.6 42.6 49.3 36.6 39.4 38.8 47.6\n",
      "  50.6 47.  46.4 56.6 48.2 54.7 47.9 49.7 51.8 54.6 65.3 44.7 60.7 49.6\n",
      "  66.1 40.5 28.2 59.3 41.2 48.  41.5 45.6]\n",
      " [59.6 36.4 42.8 52.3 48.5 35.9 50.8 47.7 36.7 48.4 59.8 47.6 50.1 45.7\n",
      "  52.8 49.  47.8 55.  41.  53.5 48.9 48.6 47.9 47.4 45.3 44.9 42.7 47.2\n",
      "  52.6 46.2 46.3 58.8 35.3 68.4 46.9 55.2 43.3 48.8 53.2 41.4 48.4 45.5\n",
      "  45.3 60.5 66.8 58.9 45.6 47.4 43.7 33.7]\n",
      " [38.2 36.7 54.4 31.  47.2 56.3 39.5 44.8 53.5 50.1 38.2 33.1 40.  39.2\n",
      "  52.  43.7 58.9 48.4 57.9 46.1 43.5 54.1 54.  51.7 39.4 53.5 56.5 38.5\n",
      "  48.4 53.7 52.3 50.  59.9 40.5 52.1 49.6 41.7 56.4 44.9 58.  55.8 52.3\n",
      "  74.  29.5 45.4 45.7 61.8 48.8 60.2 71.4]\n",
      " [55.2 41.6 50.4 45.6 39.3 49.8 56.2 48.6 31.8 54.5 42.2 53.8 68.2 52.9\n",
      "  49.4 63.  59.  78.2 44.6 63.5 46.6 43.8 54.  57.1 58.9 67.1 46.6 60.6\n",
      "  55.3 59.6 53.3 37.9 51.9 51.5 43.7 55.7 41.6 52.9 38.8 38.4 54.2 51.9\n",
      "  46.4 55.  54.7 54.8 65.  40.6 47.4 42.1]\n",
      " [37.7 63.7 60.  49.2 60.  49.  43.3 40.1 42.7 55.5 66.2 42.2 52.6 39.2\n",
      "  64.8 47.1 52.6 44.8 57.  48.8 53.  45.4 53.1 48.7 31.6 50.2 47.5 38.7\n",
      "  40.5 32.6 52.2 42.3 54.9 52.6 44.2 46.4 38.2 65.6 51.  60.7 56.  64.1\n",
      "  55.7 46.8 59.7 40.1 48.3 39.  48.4 51.7]]\n"
     ]
    }
   ],
   "source": [
    "print(np.mean(np.split(A,10),axis=0))"
   ],
   "metadata": {
    "collapsed": false,
    "pycharm": {
     "name": "#%%\n"
    }
   }
  },
  {
   "cell_type": "markdown",
   "source": [
    "# Задание 2.10 (4 балла) +\n",
    "\n",
    "\"Разверните\" массив `A` в одномерный массив. Оставьте в нём только уникальные элементы в том же порядке, в котором они встречаются в массиве. Используйте [np.unique()](https://numpy.org/doc/stable/reference/generated/numpy.unique.html)"
   ],
   "metadata": {
    "collapsed": false
   }
  },
  {
   "cell_type": "code",
   "execution_count": 11,
   "outputs": [
    {
     "name": "stdout",
     "output_type": "stream",
     "text": [
      "[ 0 77 45 38 75  2 80 52 70 93 19 60 83  9  6 51 97 15 49  4 95 28 20 31\n",
      " 87 62 39 14 89 90 12 91 37 66 56 29 72 30 47 86 59 13 26 11 22 41 43 40\n",
      " 76 32 17 55 16 21 74 24 69 33 54 35 71 63 34 79 65  1 78  8 58  5 50 53\n",
      " 85  7  3 68 61 99 57 98 67 46 94 82 25 27 44 42 10 96 88 18 81 92 73 84\n",
      " 23 48 64 36]\n"
     ]
    }
   ],
   "source": [
    "ff=A.flatten()\n",
    "dd=np.unique(A.flatten(),return_index=True)\n",
    "print(ff[sorted(dd[1])])"
   ],
   "metadata": {
    "collapsed": false,
    "pycharm": {
     "name": "#%%\n"
    }
   }
  },
  {
   "cell_type": "markdown",
   "source": [
    "# Задание 2.11 (3 балла) +\n",
    "\n",
    "Создайте одномерный массив размерности $200$, в котором каждый элемент - евклидово расстояние между соответствующей строкой `A` и \"средней\" строкой `A`"
   ],
   "metadata": {
    "collapsed": false
   }
  },
  {
   "cell_type": "code",
   "execution_count": 12,
   "outputs": [
    {
     "data": {
      "text/plain": "array([209.79479289, 175.00767162, 206.470543  , 220.67327687,\n       198.67723857, 173.40177371, 230.58637237, 211.00823473,\n       196.36528493, 182.39798553, 208.13492048, 208.19290364,\n       204.55714391, 194.47433025, 208.36087715, 218.86873949,\n       212.54316062, 198.34486413, 202.24459233, 192.5402169 ,\n       219.32228597, 198.11010859, 185.03849633, 224.04859992,\n       190.15174237, 205.31969006, 199.78679918, 211.99845548,\n       196.77328357, 191.88292036, 189.1633028 , 202.43461938,\n       195.96082549, 185.08521044, 202.89572476, 198.07929   ,\n       228.74578712, 212.86940862, 221.2368304 , 205.22995669,\n       201.73404553, 225.19261783, 204.85893958, 200.60133381,\n       198.55474088, 191.10498456, 214.23436962, 203.21128198,\n       201.95718637, 213.30613007, 217.47463099, 197.79546285,\n       220.29016121, 213.43271803, 233.50936839, 209.5486462 ,\n       194.28153573, 180.27649632, 201.31459243, 198.11255671,\n       216.12171368, 191.96672921, 225.53754704, 207.94861174,\n       175.9572821 , 189.54415086, 195.10185833, 205.2720515 ,\n       214.72055124, 190.84272353, 204.01569823, 205.89576277,\n       207.06534023, 216.48712462, 204.15304339, 206.91149104,\n       215.76655238, 207.97385683, 205.58760937, 201.85473768,\n       192.61050108, 203.65027652, 187.14634681, 192.33516352,\n       181.73982812, 210.68871618, 215.6971375 , 208.5321441 ,\n       186.80413573, 189.69107814, 195.51157287, 247.20775701,\n       196.77971218, 181.32155174, 173.03761188, 200.54285109,\n       197.38215503, 188.06582657, 211.5979327 , 201.46174606,\n       220.68499071, 195.67183018, 187.6361509 , 206.46955012,\n       189.72950515, 184.56691232, 198.56836386, 208.02044401,\n       227.90740472, 218.94411416, 220.11863875, 198.15258041,\n       203.43970882, 179.79784516, 190.82611227, 190.87617747,\n       182.67461544, 192.76222432, 199.5179569 , 196.74883767,\n       217.39925282, 226.08897612, 195.89194758, 194.255026  ,\n       205.25137058, 214.92679015, 191.52711329, 200.60636861,\n       220.40713492, 205.1826872 , 221.86902696, 205.51222622,\n       205.99297348, 198.60925237, 208.55513689, 206.86535506,\n       183.99754108, 186.63953259, 203.28636237, 195.98774228,\n       198.7500066 , 211.92327651, 202.50796312, 199.57195476,\n       190.36479487, 196.49278645, 204.63542002, 185.81446425,\n       215.29190678, 203.76298762, 202.61316622, 198.14899728,\n       206.36367201, 174.84603263, 191.7642436 , 209.88607654,\n       211.50719875, 205.58386397, 200.51285526, 198.38998242,\n       210.96861171, 185.49017528, 206.04639071, 201.00252517,\n       212.49772969, 220.34562652, 202.98476575, 198.91682967,\n       236.83252548, 212.75696258, 219.79191324, 187.83440879,\n       201.45122269, 200.59290896, 221.79938035, 192.29301892,\n       197.96435317, 202.15485432, 210.42950156, 187.04468751,\n       185.96108497, 183.03408187, 202.22881873, 218.814705  ,\n       202.8096771 , 181.6650355 , 177.38411745, 185.14133824,\n       209.30431225, 197.69869783, 208.14328028, 213.76399399,\n       202.17073261, 209.21669418, 208.9440239 , 208.46667629,\n       202.30606794, 213.89821207, 214.37048567, 181.19736512])"
     },
     "execution_count": 12,
     "metadata": {},
     "output_type": "execute_result"
    }
   ],
   "source": [
    "np.linalg.norm(A-np.mean(A,axis=0),axis=1)"
   ],
   "metadata": {
    "collapsed": false,
    "pycharm": {
     "name": "#%%\n"
    }
   }
  },
  {
   "cell_type": "markdown",
   "source": [
    "# Задание 2.12 (2 балла) +\n",
    "\n",
    "Создайте новый массив, который состоит из элементов `A`, измененных по следующим правилам:\n",
    "- если элемент меньше $50$, то он умножается на $2$\n",
    "- в противном случае он умножается на $3$\n",
    "\n",
    "Используйте [np.where()](https://numpy.org/doc/stable/reference/generated/numpy.where.html)"
   ],
   "metadata": {
    "collapsed": false
   }
  },
  {
   "cell_type": "code",
   "execution_count": 13,
   "outputs": [
    {
     "name": "stdout",
     "output_type": "stream",
     "text": [
      "[[  0 231  90 ...  60  40  94]\n",
      " [168 273 258 ...  62   2  44]\n",
      " [177 234 270 ... 213 207  52]\n",
      " ...\n",
      " [219  58  32 ...  90  24 222]\n",
      " [ 34  60 198 ...  86  82  58]\n",
      " [ 96  62  90 ... 219 255  32]]\n"
     ]
    }
   ],
   "source": [
    "print(np.where(A<50,A*2,A*3))"
   ],
   "metadata": {
    "collapsed": false,
    "pycharm": {
     "name": "#%%\n"
    }
   }
  },
  {
   "cell_type": "markdown",
   "source": [
    "# Задание 2.13 (7 баллов) +\n",
    "\n",
    "Разверните массив `A` в одномерный массив. Создайте три новых массива, подсчитав скользящие средние по окнам $3$, $5$, $10$. Найдите сумму этих массивов, выровнив из размерности нулями справа\n",
    "\n",
    "*Tip: реализуйте функцию, которая считает скользящее среднее. Используйте [np.cumsum()](https://numpy.org/doc/stable/reference/generated/numpy.cumsum.html) или [np.convolve()](https://numpy.org/doc/stable/reference/generated/numpy.convolve.html)*"
   ],
   "metadata": {
    "collapsed": false
   }
  },
  {
   "cell_type": "code",
   "execution_count": 14,
   "outputs": [
    {
     "name": "stdout",
     "output_type": "stream",
     "text": [
      "[132.16666667 159.43333333 145.36666667 ... 127.4         79.\n",
      "  58.        ]\n"
     ]
    }
   ],
   "source": [
    "def skolz(n,dan):\n",
    "    mask=np.ones(n)/n\n",
    "    return np.convolve(dan,mask,\"valid\")\n",
    "def full(mas,n):\n",
    "    return np.insert(mas,len(mas),np.zeros(n))\n",
    "ff=A.flatten()\n",
    "tri=skolz(3,ff)\n",
    "fiv=skolz(5,ff)\n",
    "ten = skolz(10,ff)\n",
    "fiv=full(fiv,(len(tri)-len(fiv)))\n",
    "ten=full(ten,(len(tri)-len(ten)))\n",
    "print(tri+fiv+ten)\n"
   ],
   "metadata": {
    "collapsed": false,
    "pycharm": {
     "name": "#%%\n"
    }
   }
  },
  {
   "cell_type": "markdown",
   "source": [
    "# Задание 2.14 (8 баллов) +\n",
    "\n",
    "Постройте график функции $$f(x) = (5  \\sin(2x) - \\cos^2(x) - 1 + |x^3| - x^2) / (x^2 + 1)$$\n",
    "\n",
    "и производной от этой функции.  Найдите минимум с помощью `scipy` и обозначьте его на графике. На этой же оси постройте графики скользящего среднего этой функции с окном $1$, $2$, $5$."
   ],
   "metadata": {
    "collapsed": false
   }
  },
  {
   "cell_type": "code",
   "execution_count": 15,
   "outputs": [
    {
     "data": {
      "text/plain": "<Figure size 800x500 with 1 Axes>",
      "image/png": "[encoded data removed]"
     },
     "metadata": {},
     "output_type": "display_data"
    }
   ],
   "source": [
    "from scipy import optimize\n",
    "def skolz(n,dan):\n",
    "    mask=np.ones(n)/n\n",
    "    return np.convolve(dan,mask,\"same\")\n",
    "def f(x):\n",
    "    return np.divide((5*np.sin(2*x)-np.power(np.cos(x),2) - 1 +np.power(np.abs(x),3) - np.power(x,2)),(np.power(x,2)+1))\n",
    "x= np.linspace(-5,5,30)\n",
    "y = f(x)\n",
    "fig, ax = plt.subplots()\n",
    "ax.plot(x,y,label=\"f(x)\")\n",
    "ax.plot(x,skolz(1,y),color=\"blue\",label=\"Sk(1)\")\n",
    "ax.plot(x,skolz(2,y),color=\"red\",label=\"Sk(2)\")\n",
    "ax.plot(x,skolz(5,y),color= \"black\",label=\"Sk(5)\")\n",
    "ax.plot(x,np.gradient(y,x),label=\"fd(x)\")\n",
    "mina=optimize.golden(f,brack=(-5,5))\n",
    "ax.plot(mina,f(mina),\"*\",c=\"black\",label=\"min\")\n",
    "ax.legend()\n",
    "fig.set_figheight(5)\n",
    "fig.set_figwidth(8)\n",
    "plt.show()\n"
   ],
   "metadata": {
    "collapsed": false,
    "pycharm": {
     "name": "#%%\n"
    }
   }
  },
  {
   "cell_type": "markdown",
   "source": [
    "# Задание 2.15 (10 баллов) +\n",
    "\n",
    "Есть следующий алгоритм семплинирования, на вход функции подается вектор из целых положительных чисел и число семплов."
   ],
   "metadata": {
    "collapsed": false
   }
  },
  {
   "cell_type": "code",
   "execution_count": 16,
   "outputs": [],
   "source": [
    "from typing import List\n",
    "\n",
    "def sample(x: List[int], c: int) -> List[int]:\n",
    "    assert len(x) > 0\n",
    "\n",
    "    s = np.sum(x)\n",
    "    res = []\n",
    "    for _ in range(c):\n",
    "        val = s * np.random.random()\n",
    "        cur, idx = 0, 0\n",
    "        while cur + x[idx] <= val:\n",
    "            cur += x[idx]\n",
    "            idx += 1\n",
    "\n",
    "        res.append(idx)\n",
    "    return res\n",
    "\n",
    "\n",
    "s1=sample([50, 3, 1, 7, 20,23], 500)\n",
    "\n"
   ],
   "metadata": {
    "collapsed": false,
    "pycharm": {
     "name": "#%%\n"
    }
   }
  },
  {
   "cell_type": "markdown",
   "source": [
    "Реализуйте данный алгоритм более оптимальным способом на массивах `numpy`, без использования циклов. Проверьте корректность и идентичность алгоритмов семплирования с помощью статистических тестов."
   ],
   "metadata": {
    "collapsed": false
   }
  },
  {
   "cell_type": "code",
   "execution_count": 17,
   "outputs": [
    {
     "name": "stdout",
     "output_type": "stream",
     "text": [
      "Mean: 2.306\n",
      "Variense: 4.912363999999999\n",
      "St Diviation: 2.21638534555704\n",
      "Mean: 2.162\n",
      "Variense: 4.771756\n",
      "St Diviation: 2.184434938376513\n",
      "KstestResult(statistic=0.038, pvalue=0.8636766933110154)\n"
     ]
    },
    {
     "data": {
      "text/plain": "<Figure size 640x480 with 1 Axes>",
      "image/png": "[encoded data removed]"
     },
     "metadata": {},
     "output_type": "display_data"
    }
   ],
   "source": [
    "from scipy import stats\n",
    "def stat(x):\n",
    "    print(\"Mean:\",np.mean(x))\n",
    "    print(\"Variense:\",np.var(x))\n",
    "    print(\"St Diviation:\",np.std(x))\n",
    "\n",
    "def samp(x,n:int):\n",
    "    b=np.divide(x,sum(x))\n",
    "    return(np.random.choice(len(x),n,p=b))\n",
    "\n",
    "\n",
    "s2=samp([50, 3, 1, 7, 20,23], 500)\n",
    "stat(s1)\n",
    "stat(s2)\n",
    "s1=np.array(s1)\n",
    "\n",
    "sns.barplot(x=np.unique(s1),y=np.unique(s1,return_counts=True)[1],color=\"blue\",alpha=1)\n",
    "sns.barplot(x=np.unique(s2),y=np.unique(s2,return_counts=True)[1],color=\"red\",alpha=0.5)\n",
    "print(stats.ks_2samp(s1,s2))"
   ],
   "metadata": {
    "collapsed": false,
    "pycharm": {
     "name": "#%%\n"
    }
   }
  },
  {
   "cell_type": "markdown",
   "source": [
    "# Задание 2.16 (5 баллов) +\n",
    "\n",
    "Есть следующий алгоритм \"случайного блуждания\""
   ],
   "metadata": {
    "collapsed": false
   }
  },
  {
   "cell_type": "code",
   "execution_count": 18,
   "outputs": [
    {
     "data": {
      "text/plain": "2217"
     },
     "execution_count": 18,
     "metadata": {},
     "output_type": "execute_result"
    }
   ],
   "source": [
    "import random\n",
    "\n",
    "def walk(n: int):\n",
    "    cur_position = 0\n",
    "    for i in range(n):\n",
    "        cur_position += random.choice([-3, -1, 0, 2, 3])\n",
    "\n",
    "    return cur_position\n",
    "\n",
    "walk(10_000)"
   ],
   "metadata": {
    "collapsed": false,
    "pycharm": {
     "name": "#%%\n"
    }
   }
  },
  {
   "cell_type": "markdown",
   "source": [
    "Реализуйте более эффективную версию с помощью `numpy`, сравните производительность (используя, например, magic `timeit`). Воспользовавшись [kdeplot()](https://seaborn.pydata.org/generated/seaborn.kdeplot.html) или аналогами, постройте график распределения значений `walk(10_000)` на каком-то разумном числе запусков."
   ],
   "metadata": {
    "collapsed": false
   }
  },
  {
   "cell_type": "code",
   "execution_count": 19,
   "outputs": [
    {
     "name": "stdout",
     "output_type": "stream",
     "text": [
      "numpy быстрее в: 6.02 раз\n"
     ]
    },
    {
     "data": {
      "text/plain": "<Figure size 640x480 with 1 Axes>",
      "image/png": "[encoded data removed]"
     },
     "metadata": {},
     "output_type": "display_data"
    }
   ],
   "source": [
    "import time\n",
    "\n",
    "def wlk(n):\n",
    "    return sum(np.random.choice([-3, -1, 0, 2, 3],n))\n",
    "start_time = time.time()\n",
    "wlk(10_000)\n",
    "end = time.time()-start_time\n",
    "start_time = time.time()\n",
    "walk(10_000)\n",
    "print(\"numpy быстрее в: %.2f раз\" % ((time.time()-start_time)/end))\n",
    "nn=np.zeros(50)\n",
    "for i in range(50):\n",
    "    nn[i]=wlk(10000)\n",
    "sns.kdeplot(data=nn)\n",
    "x=np.ones(100)*10000\n"
   ],
   "metadata": {
    "collapsed": false,
    "pycharm": {
     "name": "#%%\n"
    }
   }
  },
  {
   "cell_type": "markdown",
   "source": [
    "# Задание 2.17 (5 баллов) +\n",
    "\n",
    "Имеется функция, которая проделывает достаточно странные манипуляции с массивом `numpy`"
   ],
   "metadata": {
    "collapsed": false
   }
  },
  {
   "cell_type": "code",
   "execution_count": 20,
   "outputs": [],
   "source": [
    "import numpy.typing as npt\n",
    "\n",
    "def strange_conv(a: npt.NDArray[np.float64]) -> np.float64:\n",
    "    x1 = a.shape[0]\n",
    "    y1 = a.shape[1]\n",
    "\n",
    "    t = 1.\n",
    "    for y in range(y1 - 5):\n",
    "        for x in range(x1 - 3):\n",
    "            c = 1.5 * a[y+1, x+2] - a[y+5, x+3] * a[y, x] + 0.2 * a[y+4, x]\n",
    "            t = 0.2 * t + 0.8 * c\n",
    "\n",
    "    return t\n",
    "\n",
    "\n",
    "\n",
    "\n"
   ],
   "metadata": {
    "collapsed": false,
    "pycharm": {
     "name": "#%%\n"
    }
   }
  },
  {
   "cell_type": "markdown",
   "source": [
    "Оптимизируйте данную функцию с помощью (2 на выбор):\n",
    "- [Numba](https://numba.pydata.org) +\n",
    "- `Cython` (+5 баллов)\n",
    "- [Taichi](https://github.com/taichi-dev/taichi) (+5 баллов) +\n",
    "- `Pythran `[[1]](https://pythran.readthedocs.io/en/latest/), [[2]](https://serge-sans-paille.github.io/pythran-stories/pythran-tutorial.html) (+2 балла)\n",
    "\n",
    "Сравните производительность."
   ],
   "metadata": {
    "collapsed": false
   }
  },
  {
   "cell_type": "code",
   "execution_count": 21,
   "outputs": [],
   "source": [
    "from numba import njit\n",
    "\n",
    "@njit\n",
    "def strange_conv1(a: npt.NDArray[np.float64]) -> np.float64:\n",
    "    x1 = a.shape[0]\n",
    "    y1 = a.shape[1]\n",
    "\n",
    "    t = 1.\n",
    "    for y in range(y1 - 5):\n",
    "        for x in range(x1 - 3):\n",
    "            c = 1.5 * a[y+1, x+2] - a[y+5, x+3] * a[y, x] + 0.2 * a[y+4, x]\n",
    "            t = 0.2 * t + 0.8 * c\n",
    "\n",
    "    return t"
   ],
   "metadata": {
    "collapsed": false,
    "pycharm": {
     "name": "#%%\n"
    }
   }
  },
  {
   "cell_type": "code",
   "execution_count": 22,
   "outputs": [
    {
     "name": "stdout",
     "output_type": "stream",
     "text": [
      "[Taichi] version 1.2.1, llvm 10.0.0, commit 12ab828a, win, python 3.10.0\n",
      "[Taichi] Starting on arch=x64\n"
     ]
    }
   ],
   "source": [
    "import taichi as ti\n",
    "ti.init(arch=ti.cpu)\n",
    "# t1=ti.field(ti.f64,shape=1)\n",
    "@ti.kernel\n",
    "def strange_conv2(a: ti.types.ndarray()) -> ti.f64:\n",
    "    len1 = a.shape[0]\n",
    "    len2 = a.shape[1]\n",
    "    t = 1\n",
    "    # ti.loop_config(serialize=True)\n",
    "    for y in range(len2 - 5):\n",
    "        for x in range(len1 - 3):\n",
    "            c = 1.5 * a[y+1, x+2] - a[y+5, x+3] * a[y, x] + 0.2 * a[y+4, x]\n",
    "            t = 0.2 * t + 0.8 * c\n",
    "    return t\n"
   ],
   "metadata": {
    "collapsed": false,
    "pycharm": {
     "name": "#%%\n"
    }
   }
  },
  {
   "cell_type": "code",
   "execution_count": 23,
   "outputs": [],
   "source": [
    "# %load_ext Cython"
   ],
   "metadata": {
    "collapsed": false,
    "pycharm": {
     "name": "#%%\n"
    }
   }
  },
  {
   "cell_type": "code",
   "execution_count": 24,
   "outputs": [],
   "source": [
    "# %%cython\n",
    "# def strange_conv2(a):\n",
    "#     x = a.shape[0]\n",
    "#     y = a.shape[1]\n",
    "#\n",
    "#     t = 1.\n",
    "#     for y in range(y - 5):\n",
    "#         for x in range(x - 3):\n",
    "#             c = 1.5 * a[y+1, x+2] - a[y+5, x+3] * a[y, x] + 0.2 * a[y+4, x]\n",
    "#             t = 0.2 * t + 0.8 * c\n",
    "#\n",
    "#     return t"
   ],
   "metadata": {
    "collapsed": false,
    "pycharm": {
     "name": "#%%\n"
    }
   }
  },
  {
   "cell_type": "code",
   "execution_count": 24,
   "outputs": [],
   "source": [],
   "metadata": {
    "collapsed": false,
    "pycharm": {
     "name": "#%%\n"
    }
   }
  },
  {
   "cell_type": "code",
   "execution_count": 25,
   "outputs": [
    {
     "name": "stdout",
     "output_type": "stream",
     "text": [
      "124 µs ± 6.65 µs per loop (mean ± std. dev. of 7 runs, 10,000 loops each)\n",
      "The slowest run took 26.00 times longer than the fastest. This could mean that an intermediate result is being cached.\n",
      "1.91 µs ± 3.47 µs per loop (mean ± std. dev. of 7 runs, 1 loop each)\n",
      "112 µs ± 6.89 µs per loop (mean ± std. dev. of 7 runs, 10,000 loops each)\n"
     ]
    }
   ],
   "source": [
    "gg=np.random.randint(0,11,size=(10,10))\n",
    "%timeit strange_conv(gg)\n",
    "%timeit strange_conv1(gg)\n",
    "%timeit strange_conv2(gg)\n"
   ],
   "metadata": {
    "collapsed": false,
    "pycharm": {
     "name": "#%%\n"
    }
   }
  }
 ],
 "metadata": {
  "kernelspec": {
   "display_name": "Python 3",
   "language": "python",
   "name": "python3"
  },
  "language_info": {
   "codemirror_mode": {
    "name": "ipython",
    "version": 2
   },
   "file_extension": ".py",
   "mimetype": "text/x-python",
   "name": "python",
   "nbconvert_exporter": "python",
   "pygments_lexer": "ipython2",
   "version": "2.7.6"
  }
 },
 "nbformat": 4,
 "nbformat_minor": 0
}